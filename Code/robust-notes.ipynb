{
 "cells": [
  {
   "cell_type": "markdown",
   "metadata": {},
   "source": [
    "# Robust Optimization for Genetic Selection\n",
    "\n",
    "This is a working notebook, looking at how the quadratic optimization problem (QP) which arises in the context of robust genetic selection can be solved with Python (tested with 3.10 specifically). There are some standard packages which this depends on, imported below."
   ]
  },
  {
   "cell_type": "code",
   "execution_count": 1,
   "metadata": {},
   "outputs": [],
   "source": [
    "import numpy as np                  # defines matrix structures\n",
    "from numpy import linalg as nla     # access Numpy's NLA functions\n",
    "from time import perf_counter       # fine grained timing code"
   ]
  },
  {
   "cell_type": "markdown",
   "metadata": {},
   "source": [
    "Utility functions and output settings used in this notebook are defined in the two cells below."
   ]
  },
  {
   "cell_type": "code",
   "execution_count": 2,
   "metadata": {},
   "outputs": [],
   "source": [
    "def printTime(task, tic, toc):\n",
    "    \"\"\"Quick function for nicely printing a time to 5 s.f.\"\"\"\n",
    "    print(f\"{task} in {toc - tic:0.5f} seconds\\n\")\n",
    "\n",
    "\n",
    "def printMatrix(matrix, description=\"ans =\", precision=3):\n",
    "    \"\"\"Quick function for nicely printing a matrix\"\"\"\n",
    "    print(f\"{description}\\n\", np.round(matrix, precision))"
   ]
  },
  {
   "cell_type": "code",
   "execution_count": 3,
   "metadata": {},
   "outputs": [],
   "source": [
    "# want to round rather than truncate when printing\n",
    "np.set_printoptions(threshold=np.inf)"
   ]
  },
  {
   "cell_type": "markdown",
   "metadata": {},
   "source": [
    "## Reading Pedigrees\n",
    "\n",
    "We start by reviewing the basic functions needed for handling genetics input data, describing the relationship structure of a cohort of organisms.\n",
    "\n",
    "These structures, sometimes referred to as pedigrees, are commonly stored in `*.ped` datafiles. The files are essentially a CSV format with three columns $i$, $p$, and $q$, where $i$ is the index of the organism, and $p$ and $q$ are indices of $i$'s parents. Unknown parents (_i.e._ where the parent of an organism within the cohort is from outside the cohort) are represented by a zero. Note that it doesn't matter whether each of $p$ and $q$ is a sire or dam, but the labelling must be such that $p < q$.\n",
    "\n",
    "We read these files into a dictionary using `readPed` below."
   ]
  },
  {
   "cell_type": "code",
   "execution_count": 4,
   "metadata": {},
   "outputs": [],
   "source": [
    "def readPed(filename):\n",
    "    \"\"\"\n",
    "    Function for reading *.ped files to a dictionary. Takes the file name\n",
    "    as a string input and returns the pedigree structure as a dictionary.\n",
    "    \"\"\"\n",
    "    with open(filename, \"r\") as file:\n",
    "        # first line of *.ped lists the headers; skip\n",
    "        file.readline()\n",
    "        # create a list of int lists from each line (dropping optional labels)\n",
    "        data = [[int(x) for x in line.split(\",\")[0:3]] for line in file]\n",
    "    # convert this list of lists into a dictionary\n",
    "    ped = {entry[0]: entry[1:3] for entry in data}\n",
    "    return(ped)"
   ]
  },
  {
   "cell_type": "markdown",
   "metadata": {},
   "source": [
    "Once we have read the pedigree file we can construct Wright's Numerator Relationship Matrix (WNRM), a matrix $A$ which encodes the relationship between organisms $i$ and $j$ as $A_{ij}$. This defined as\n",
    "$$\n",
    "    A_{(i, j)} = A_{(j, i)} = \\frac{1}{2}\\left( A_{(j,p)} + A_{(j,q)} \\right),~\\forall i = 1, \\ldots, m,~\\forall j=1,\\ldots,i-1\n",
    "$$\n",
    "for the off diagonal entries and\n",
    "$$\n",
    "    A_{(i,i)} = 1 + \\frac{1}{2}A_{(p,q)}\n",
    "$$\n",
    "for the diagonal entries."
   ]
  },
  {
   "cell_type": "code",
   "execution_count": 5,
   "metadata": {},
   "outputs": [],
   "source": [
    "def makeA(pedigree):\n",
    "    \"\"\"\n",
    "    Construct Wright's Numerator Relationship Matrix from a given pedigree\n",
    "    structure. Takes the pedigree as a dictionary input and returns the\n",
    "    matrix as output.\n",
    "    \"\"\"\n",
    "    m = len(pedigree)\n",
    "    A = np.zeros((m, m))\n",
    "\n",
    "    # iterate over rows\n",
    "    for i in range(0, m):\n",
    "        # save parent indexes: pedigrees indexed from 1, Python from 0\n",
    "        p = pedigree[i+1][0]-1\n",
    "        q = pedigree[i+1][1]-1\n",
    "        # iterate over columns sub-diagonal\n",
    "        for j in range(0, i):\n",
    "            # calculate sub-diagonal entries\n",
    "            A[i, j] = 0.5*(A[j, p] + A[j, q])\n",
    "            # populate sup-diagonal (symmetric)\n",
    "            A[j, i] = A[i, j]\n",
    "        # calculate diagonal entries\n",
    "        A[i, i] = 1 + 0.5*A[p, q]\n",
    "\n",
    "    return(A)"
   ]
  },
  {
   "cell_type": "markdown",
   "metadata": {},
   "source": [
    "For our work we also need the inverse of this matrix, $A^{-1}$. While we could compute this explicitly or using a decomposition, it's more efficient to use shortcuts highlighted by Henderson and Quass. Given $A$ is a positive definite matrix, it has a Cholesky factorisation $A = L^{T}L$. We compute this factor using `makeL` below."
   ]
  },
  {
   "cell_type": "code",
   "execution_count": 6,
   "metadata": {},
   "outputs": [],
   "source": [
    "def makeL(pedigree):\n",
    "    \"\"\"\n",
    "    Construct the Cholesky factor L of Wright's Numerator Relationship Matrix\n",
    "    from a given pedigree structure. Takes the pedigree as a dictionary input\n",
    "    and returns the matrix L (in A = L'L) as output.\n",
    "    \"\"\"\n",
    "    m = len(pedigree)\n",
    "    L = np.zeros((m, m))\n",
    "\n",
    "    # iterate over rows\n",
    "    for i in range(0, m):\n",
    "        # save parent indexes: pedigrees indexed from 1, Python from 0\n",
    "        p = pedigree[i+1][0]-1\n",
    "        q = pedigree[i+1][1]-1\n",
    "\n",
    "        # case where both parents are known; p < q bny *.ped convention\n",
    "        if p >= 0 and q >= 0:\n",
    "            for j in range(0, p+1):\n",
    "                L[i, j] = 0.5*(L[p, j] + L[q, j])\n",
    "            for j in range(p+1, q+1):\n",
    "                L[i, j] = 0.5*L[q, j]\n",
    "            # and L[i,j] = 0 for j = (q+1):i\n",
    "\n",
    "            # compute the diagonal\n",
    "            s = 1\n",
    "            for j in range(0, p+1):\n",
    "                s += 0.5*L[p, j]*L[q, j]\n",
    "            for j in range(0, q+1):\n",
    "                s -= L[i, j]**2\n",
    "            L[i, i] = s**0.5\n",
    "\n",
    "        # case where one parent is known; p by *.ped convention\n",
    "        elif p >= 0:  # and q = 0\n",
    "            for j in range(0, p+1):\n",
    "                L[i, j] = 0.5*L[p, j]\n",
    "            # and L[i,j] = 0 for j = (q+1):i\n",
    "\n",
    "            # compute the diagonal\n",
    "            s = 1\n",
    "            for j in range(0, p+1):\n",
    "                s -= L[i, j]**2\n",
    "            L[i, i] = s**0.5\n",
    "\n",
    "        else:\n",
    "            for j in range(0, i):\n",
    "                L[i, j] = 0\n",
    "            L[i, i] = 1\n",
    "\n",
    "    return(L)"
   ]
  },
  {
   "cell_type": "markdown",
   "metadata": {},
   "source": [
    "Using this $L$, and observing also that $A = L^{T}L = T^{T}DDT$ (where $T$ is a triangular matrix and $D$ a diagonal matrix), we further compute the inverse of $D^2$ using `make_invD2`."
   ]
  },
  {
   "cell_type": "code",
   "execution_count": 7,
   "metadata": {},
   "outputs": [],
   "source": [
    "def make_invD2(pedigree):\n",
    "    \"\"\"\n",
    "    Construct the inverse of the D^2 factor from the Henderson (1976)\n",
    "    decomposition of a WNRM. Takes the pedigree as a dictionary input\n",
    "    and returns the inverse of matrix D^2 (in A = L'L = T'DDT) as output.\n",
    "    \"\"\"\n",
    "    m = len(pedigree)\n",
    "    L = makeL(pedigree)\n",
    "    invD2 = np.zeros((m, m))  # TODO find a way to store diagonal matrices\n",
    "\n",
    "    # iterate over rows\n",
    "    for i in range(0, m):\n",
    "        invD2[i, i] = 1/(L[i, i]**2)\n",
    "\n",
    "    return(invD2)"
   ]
  },
  {
   "cell_type": "markdown",
   "metadata": {},
   "source": [
    "Finally, we use $D^{-1}$ and exploit the structure of the pedigree (using shortcuts highlighted by Henderson) to compute $A^{-1}$ directly. The algorithm for this is given in `make_invA` below."
   ]
  },
  {
   "cell_type": "code",
   "execution_count": 8,
   "metadata": {},
   "outputs": [],
   "source": [
    "def make_invA(pedigree):\n",
    "    \"\"\"\n",
    "    Compute the inverse of A using a shortcut which exploits\n",
    "    of its T and D decomposition, detailed in Henderson (1976).\n",
    "    Takes the pedigree as a dictionary input and returns the\n",
    "    inverse as matrix output.\n",
    "    \"\"\"\n",
    "    m = len(pedigree)\n",
    "    B = make_invD2(pedigree)\n",
    "    invA = B\n",
    "\n",
    "    for i in range(0, m):\n",
    "        # label parents p & q\n",
    "        p = pedigree[i+1][0]-1\n",
    "        q = pedigree[i+1][1]-1\n",
    "\n",
    "        # case where both both parents are known\n",
    "        if p >= 0 and q >= 0:\n",
    "            x = -0.5*B[i, i]\n",
    "            y = 0.25*B[i, i]\n",
    "            invA[p, i] += x\n",
    "            invA[i, p] += x\n",
    "            invA[q, i] += x\n",
    "            invA[i, q] += x\n",
    "            invA[p, p] += y\n",
    "            invA[p, q] += y\n",
    "            invA[q, p] += y\n",
    "            invA[q, q] += y\n",
    "\n",
    "        # case where one parent is known; p by *.ped convention\n",
    "        elif p >= 0:\n",
    "            x = -0.5*B[i, i]\n",
    "            invA[p, i] += x\n",
    "            invA[i, p] += x\n",
    "            invA[p, p] += 0.25*B[i, i]\n",
    "\n",
    "    return(invA)\n"
   ]
  },
  {
   "cell_type": "markdown",
   "metadata": {},
   "source": [
    "As an example, consider the following pedigree data from Henderson (1976), _A Simple Method for Computing the Inverse of a Numerator Relationship Matrix Used in Prediction of Breeding Values_ in Biometrics 32:1, pg. 69-83 (Table 1).\n",
    "\n",
    "|$i$|$p$|$q$|\n",
    "|:-:|:-:|:-:|\n",
    "| i | p | q |\n",
    "| 1 | 0 | 0 |\n",
    "| 2 | 0 | 0 |\n",
    "| 3 | 1 | 0 |\n",
    "| 4 | 1 | 2 |\n",
    "| 5 | 3 | 4 |\n",
    "| 6 | 1 | 4 |\n",
    "| 7 | 5 | 6 |\n",
    "\n",
    "<!-- TODO add a split here, where on the left we have the table and on the right we have a graphical visualization of the pedigree tree -->\n",
    "\n",
    "\n",
    "We can use the functions defined in this section to form $A$ and $A^{-1}$, and compare the inverse formed to the one formed using Numpy's standard Numerical Linear Algebra tools.  "
   ]
  },
  {
   "cell_type": "code",
   "execution_count": 9,
   "metadata": {},
   "outputs": [
    {
     "name": "stdout",
     "output_type": "stream",
     "text": [
      "A =\n",
      " [[1.    0.    0.5   0.5   0.5   0.75  0.625]\n",
      " [0.    1.    0.    0.5   0.25  0.25  0.25 ]\n",
      " [0.5   0.    1.    0.25  0.625 0.375 0.5  ]\n",
      " [0.5   0.5   0.25  1.    0.625 0.75  0.688]\n",
      " [0.5   0.25  0.625 0.625 1.125 0.562 0.844]\n",
      " [0.75  0.25  0.375 0.75  0.562 1.25  0.906]\n",
      " [0.625 0.25  0.5   0.688 0.844 0.906 1.281]]\n",
      "Constructed A in 0.00020 seconds\n",
      "\n",
      "A^-1 =\t(from numpy)\n",
      " [[ 2.333  0.5   -0.667 -0.5    0.    -1.     0.   ]\n",
      " [ 0.5    1.5    0.    -1.     0.     0.     0.   ]\n",
      " [-0.667  0.     1.833  0.5   -1.     0.     0.   ]\n",
      " [-0.5   -1.     0.5    3.    -1.    -1.     0.   ]\n",
      " [ 0.     0.    -1.    -1.     2.615  0.615 -1.231]\n",
      " [-1.     0.     0.    -1.     0.615  2.615 -1.231]\n",
      " [ 0.     0.     0.     0.    -1.231 -1.231  2.462]]\n",
      "Numpy inversion in 0.01234 seconds\n",
      "\n",
      "A^-1 =\t(from pedigree)\n",
      " [[ 2.333  0.5   -0.667 -0.5    0.    -1.     0.   ]\n",
      " [ 0.5    1.5    0.    -1.     0.     0.     0.   ]\n",
      " [-0.667  0.     1.833  0.5   -1.     0.     0.   ]\n",
      " [-0.5   -1.     0.5    3.    -1.    -1.     0.   ]\n",
      " [ 0.     0.    -1.    -1.     2.615  0.615 -1.231]\n",
      " [-1.     0.     0.    -1.     0.615  2.615 -1.231]\n",
      " [ 0.     0.     0.     0.    -1.231 -1.231  2.462]]\n",
      "Henderson inversion in 0.00035 seconds\n",
      "\n"
     ]
    }
   ],
   "source": [
    "# constructing the pedigree tree\n",
    "ped = readPed(\"example2.ped\")\n",
    "\n",
    "# construction of A\n",
    "tic = perf_counter()\n",
    "A = makeA(ped)\n",
    "toc = perf_counter()\n",
    "printMatrix(A, \"A =\")\n",
    "printTime(\"Constructed A\", tic, toc)\n",
    "\n",
    "# calculating inverse of A\n",
    "tic = perf_counter()\n",
    "numpy_inverse = np.linalg.inv(A)\n",
    "toc = perf_counter()\n",
    "printMatrix(numpy_inverse, \"A^-1 =\\t(from numpy)\")\n",
    "printTime(\"Numpy inversion\", tic, toc)\n",
    "\n",
    "# constructing inverse of A\n",
    "tic = perf_counter()\n",
    "hendo_inverse = make_invA(ped)\n",
    "toc = perf_counter()\n",
    "printMatrix(hendo_inverse, \"A^-1 =\\t(from pedigree)\")\n",
    "printTime(\"Henderson inversion\", tic, toc)\n"
   ]
  },
  {
   "cell_type": "markdown",
   "metadata": {},
   "source": [
    "From external testing we know that $A$ is 91.84\\% dense while $A^{-1}$ is only 65.31\\% dense, meaning the inverse is relatively sparse. We also have that $\\lambda_{\\max}(A) = 4.277$ while $\\lambda_{\\min}(A) = 0.183$, giving that $\\kappa(A) = 23.351$."
   ]
  },
  {
   "cell_type": "markdown",
   "metadata": {},
   "source": [
    "## Exploring Toy Problems\n",
    "\n",
    "Now we have worked out how to read in the relevant data, where this arises in optimization problems. In the context of genetic selection, we want to maximize selection of genetic merit (a measure of desirable traits) while minimizing risks due to inbreeding. This is formed mathematically as\n",
    "$$\n",
    "    \\min_w \\frac{1}{2}w^{T}\\Sigma w - \\lambda w^{T}\\mu\\ \\text{ subject to }\\ w_{\\mathcal{S}}^{T}e_{\\mathcal{S}}^{} = \\frac{1}{2},\\ w_{\\mathcal{D}}^{T}e_{\\mathcal{D}}^{} = \\frac{1}{2},\\ l\\leq w\\leq u,\n",
    "$$\n",
    "where $w$ is the vector of proportional contributions, $\\Sigma$ is a matrix encoding risk, $\\mu$ is a vector encoding returns, $l$ encodes lower bounds on contributions, $u$ encodes upper bounds on contributions, $\\mathcal{S}$ is an index set of candidates who are sires, and $\\mathcal{D}$ is an index set of candidates who are dams.\n",
    "\n",
    "In this representation of the problem, $\\lambda$ is a control variable which balances how we trade of between risk and return. Each value of $\\lambda$ will give a different solution on the critical frontier of the problem. "
   ]
  },
  {
   "cell_type": "markdown",
   "metadata": {},
   "source": [
    "### Standard Optimization\n",
    "\n",
    "We will start by looking how this problem might be solving using Python's [qpsolvers](https://qpsolvers.github.io/qpsolvers/index.html) library. Since it takes problems of the form\n",
    "$$\n",
    "    \\min_x \\frac{1}{2} x^T A x + q^T x\\ \\text{ subject to }\\ Gx\\leq h,\\ Mx = m,\\ l\\leq x\\leq u,\n",
    "$$\n",
    "we will need to do a very slight rearrangement of the problem to incorporate our two sum-to-half constraints within a single equality constraint. We also do not use the $Gx\\leq h$ constraint in our problem.\n",
    "\n",
    "We observe that the two vector constraints\n",
    "$$\n",
    "    w_{\\mathcal{S}}^{T}e_{\\mathcal{S}}^{} = \\frac{1}{2},\\ w_{\\mathcal{D}}^{T}e_{\\mathcal{D}}^{} = \\frac{1}{2},\n",
    "$$\n",
    "are equivalent to the single matrix constraint\n",
    "$$\n",
    "    w^{T}M := w^{T}\\begin{bmatrix}\n",
    "        \\mathbb{I}\\lbrace 1\\in\\mathcal{S}\\rbrace & \\mathbb{I}\\lbrace 1\\in\\mathcal{D}\\rbrace \\\\\n",
    "        \\mathbb{I}\\lbrace 2\\in\\mathcal{S}\\rbrace & \\mathbb{I}\\lbrace 2\\in\\mathcal{D}\\rbrace \\\\\n",
    "        \\vdots & \\vdots \\\\\n",
    "        \\mathbb{I}\\lbrace n\\in\\mathcal{S}\\rbrace & \\mathbb{I}\\lbrace n\\in\\mathcal{D}\\rbrace\n",
    "    \\end{bmatrix} = \\begin{bmatrix}\\frac{1}{2} & \\frac{1}{2}\\end{bmatrix},\n",
    "$$\n",
    "where $\\mathbb{I}\\lbrace i\\in\\mathcal{I}\\rbrace$ is an indicator function denoting whether index $i$ is in the set of indices $\\mathcal{I}$."
   ]
  },
  {
   "cell_type": "code",
   "execution_count": 13,
   "metadata": {},
   "outputs": [
    {
     "name": "stdout",
     "output_type": "stream",
     "text": [
      "[[1. 0.]\n",
      " [0. 1.]\n",
      " [1. 0.]\n",
      " [0. 1.]]\n"
     ]
    }
   ],
   "source": [
    "from qpsolvers import solve_qp\n",
    "\n",
    "# key problem variables\n",
    "lam = 1\n",
    "mu = np.array([1.0, 1.0, 1.0])  # TODO replace with a realistic problem variable\n",
    "S = [0,2]                       # TODO replace with a realistic problem variable\n",
    "D = [1,3]                       # TODO replace with a realistic problem variable\n",
    "q = -lam * mu\n",
    "\n",
    "# define the M so that rows i is [1,0] if i is a sire and [0,1] otherwise \n",
    "M = np.zeros((4,2))\n",
    "M[S,0] = 1\n",
    "M[D,1] = 1\n",
    "# define the right hand side of the constraint Mx = m\n",
    "m = np.array([0.5, 0.5])\n",
    "\n",
    "# w = solve_qp(A, q, M, m, G=None, h=None, solver=\"proxqp\")\n",
    "# NOTE for later when working with \"real\" problems, use `solver=\"gurobi\")`\n",
    "# print(f\"QP solution: {w = }\")"
   ]
  },
  {
   "cell_type": "markdown",
   "metadata": {},
   "source": [
    "### Robust Optimization"
   ]
  },
  {
   "cell_type": "markdown",
   "metadata": {},
   "source": [
    "## Bigger Problems\n",
    "\n",
    "As an example, consider the following pedigree data from Pong-Wong and Williams (2007), _Optimisation of Contribution of Candidate Parents to Maximise Genetic Gain and Restricting Inbreeding Using Semidefinite Programming_ in Genetics Selection Evolution 39:1, pg. 3-25 (Figure 2)."
   ]
  },
  {
   "cell_type": "code",
   "execution_count": null,
   "metadata": {},
   "outputs": [],
   "source": []
  }
 ],
 "metadata": {
  "kernelspec": {
   "display_name": "Python 3",
   "language": "python",
   "name": "python3"
  },
  "language_info": {
   "codemirror_mode": {
    "name": "ipython",
    "version": 3
   },
   "file_extension": ".py",
   "mimetype": "text/x-python",
   "name": "python",
   "nbconvert_exporter": "python",
   "pygments_lexer": "ipython3",
   "version": "3.8.10"
  }
 },
 "nbformat": 4,
 "nbformat_minor": 2
}
