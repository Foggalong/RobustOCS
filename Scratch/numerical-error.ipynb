{
 "cells": [
  {
   "cell_type": "markdown",
   "metadata": {},
   "source": [
    "# Numerical Error\n",
    "\n",
    "The purpose of this notebook is to illustrate the numerical error which comes from setting $\\kappa = 0$."
   ]
  },
  {
   "cell_type": "code",
   "execution_count": 1,
   "metadata": {},
   "outputs": [],
   "source": [
    "import numpy as np                  # defines matrix structures\n",
    "from qpsolvers import solve_qp      # used for quadratic optimization\n",
    "import gurobipy as gp               # Gurobi optimization interface (1)\n",
    "from gurobipy import GRB            # Gurobi optimization interface (2)"
   ]
  },
  {
   "cell_type": "markdown",
   "metadata": {},
   "source": [
    "Utility functions and output settings used in this notebook are defined in the two cells below."
   ]
  },
  {
   "cell_type": "code",
   "execution_count": 2,
   "metadata": {},
   "outputs": [],
   "source": [
    "# want to round rather than truncate when printing\n",
    "np.set_printoptions(threshold=np.inf)\n",
    "\n",
    "# only show numpy output to five decimal places\n",
    "np.set_printoptions(formatter={'float_kind':\"{:.5f}\".format})"
   ]
  },
  {
   "cell_type": "markdown",
   "metadata": {},
   "source": [
    "### Toy Example ($n = 3$)\n",
    "\n",
    "Lets see how this works in an example. We will start by looking how this problem might be solving using Python's [qpsolvers](https://qpsolvers.github.io/qpsolvers/index.html) library. Consider the problem where\n",
    "$$\n",
    "    \\mu = \\begin{bmatrix} 1 \\\\ 5 \\\\ 2 \\end{bmatrix},\\quad\n",
    "    \\Sigma = \\begin{bmatrix} 1 & 0 & 0 \\\\ 0 & 5 & 0 \\\\ 0 & 0 & 3 \\end{bmatrix}, \\quad\n",
    "    \\mathcal{S} = \\lbrace 1 \\rbrace, \\quad\n",
    "    \\mathcal{D} = \\lbrace 2, 3 \\rbrace, \\quad\n",
    "    l = {\\bf 0}, \\quad\n",
    "    u = {\\bf 1}.\n",
    "$$\n",
    "We define these variables in Python using the following code."
   ]
  },
  {
   "cell_type": "code",
   "execution_count": 3,
   "metadata": {},
   "outputs": [],
   "source": [
    "# KEY PROBLEM VARIABLES\n",
    "problem_size = 3\n",
    "expected_breeding_values = np.array([\n",
    "    1.0,\n",
    "    5.0,\n",
    "    2.0\n",
    "])\n",
    "relationship_matrix = np.array([\n",
    "    [1, 0, 0],\n",
    "    [0, 5, 0],\n",
    "    [0, 0, 3]\n",
    "])\n",
    "sire_indices = [0]\n",
    "dam_indices  = [1,2]\n",
    "lower_bound = np.full((problem_size, 1), 0.0)\n",
    "upper_bound = np.full((problem_size, 1), 1.0)\n",
    "\n",
    "# OPTIMIZATION SETUP VARIABLES\n",
    "lam = 0.5\n",
    "# define the M so that column i is [1;0] if i is a sire and [0;1] otherwise \n",
    "M = np.zeros((2, problem_size))\n",
    "M[0, sire_indices] = 1\n",
    "M[1, dam_indices] = 1\n",
    "# define the right hand side of the constraint Mx = m\n",
    "m = np.array([[0.5], [0.5]])"
   ]
  },
  {
   "cell_type": "markdown",
   "metadata": {},
   "source": [
    "### Using Gurobi\n",
    "\n",
    "To illustrate how the setup changes when uncertainty is added, we will first look at how Gurobi handles the standard problem. The following code returns the same solution as "
   ]
  },
  {
   "cell_type": "code",
   "execution_count": 4,
   "metadata": {},
   "outputs": [
    {
     "name": "stdout",
     "output_type": "stream",
     "text": [
      "Set parameter Username\n",
      "Academic license - for non-commercial use only - expires 2025-02-26\n",
      "Gurobi Optimizer version 11.0.0 build v11.0.0rc2 (linux64 - \"Ubuntu 22.04.4 LTS\")\n",
      "\n",
      "CPU model: Intel(R) Core(TM) i5-8350U CPU @ 1.70GHz, instruction set [SSE2|AVX|AVX2]\n",
      "Thread count: 4 physical cores, 8 logical processors, using up to 8 threads\n",
      "\n",
      "Optimize a model with 22 rows, 3 columns and 24 nonzeros\n",
      "Model fingerprint: 0xd96d3c43\n",
      "Model has 3 quadratic objective terms\n",
      "Coefficient statistics:\n",
      "  Matrix range     [1e+00, 1e+00]\n",
      "  Objective range  [5e-01, 2e+00]\n",
      "  QObjective range [1e+00, 5e+00]\n",
      "  Bounds range     [0e+00, 0e+00]\n",
      "  RHS range        [5e-01, 1e+00]\n",
      "Presolve removed 21 rows and 1 columns\n",
      "Presolve time: 0.01s\n",
      "Presolved: 1 rows, 2 columns, 2 nonzeros\n",
      "Presolved model has 2 quadratic objective terms\n",
      "Ordering time: 0.00s\n",
      "\n",
      "Barrier statistics:\n",
      " AA' NZ     : 0.000e+00\n",
      " Factor NZ  : 1.000e+00\n",
      " Factor Ops : 1.000e+00 (less than 1 second per iteration)\n",
      " Threads    : 1\n",
      "\n",
      "                  Objective                Residual\n",
      "Iter       Primal          Dual         Primal    Dual     Compl     Time\n",
      "   0   5.30849490e+05 -5.31975390e+05  1.50e+03 0.00e+00  3.13e+05     0s\n",
      "   1   7.57990696e+02 -1.61071935e+03  3.58e+01 1.71e-13  7.91e+03     0s\n",
      "   2  -7.64387653e-01 -8.13186089e+02  3.58e-05 1.23e-14  2.03e+02     0s\n",
      "   3  -7.64406933e-01 -2.00154147e+00  1.88e-08 6.43e-14  3.09e-01     0s\n",
      "   4  -7.99897456e-01 -9.97000994e-01  1.46e-09 4.86e-15  4.93e-02     0s\n",
      "   5  -8.12408202e-01 -8.31800574e-01  1.33e-15 2.78e-17  4.85e-03     0s\n",
      "   6  -8.12499997e-01 -8.12540276e-01  0.00e+00 0.00e+00  1.01e-05     0s\n",
      "   7  -8.12500000e-01 -8.12500040e-01  0.00e+00 2.78e-17  1.01e-08     0s\n",
      "   8  -8.12500000e-01 -8.12500000e-01  2.22e-16 5.55e-17  1.01e-11     0s\n",
      "\n",
      "Barrier solved model in 8 iterations and 0.04 seconds (0.00 work units)\n",
      "Optimal objective -8.12500000e-01\n",
      "\n",
      "w = [0.50000 0.37500 0.12500]\n"
     ]
    }
   ],
   "source": [
    "# create a model for standard genetic selection\n",
    "model = gp.Model(\"standardGS\")\n",
    "\n",
    "# define variable of interest as a continuous \n",
    "w = model.addMVar(shape=problem_size, lb=0.0, vtype=GRB.CONTINUOUS, name=\"w\")\n",
    "\n",
    "# set the objective function\n",
    "model.setObjective(\n",
    "    0.5*w@(relationship_matrix@w) - lam*w.transpose()@expected_breeding_values,\n",
    "GRB.MINIMIZE)\n",
    "\n",
    "# add sub-to-half constraints\n",
    "model.addConstr(M @ w == m, name=\"sum-to-half\")\n",
    "# add weight-bound constraints\n",
    "model.addConstr(w >= lower_bound, name=\"lower-bound\")\n",
    "model.addConstr(w <= upper_bound, name=\"upper-bound\")\n",
    "\n",
    "# solve the problem with Gurobi\n",
    "model.optimize()\n",
    "print(f\"w = {w.X}\")\n",
    "\n",
    "# save variable for later comparison\n",
    "std_w = w.X"
   ]
  },
  {
   "cell_type": "markdown",
   "metadata": {},
   "source": [
    "We will define\n",
    "$$\n",
    "    \\bar{\\mu} = \\begin{bmatrix} 1 \\\\ 5 \\\\ 2 \\end{bmatrix},\\quad\n",
    "        \\Omega = \\begin{bmatrix} 1 & 0 & 0 \\\\ 0 & 4 & 0 \\\\ 0 & 0 & \\frac{1}{8} \\end{bmatrix},\n",
    "$$\n",
    "and our other problem variables as before."
   ]
  },
  {
   "cell_type": "code",
   "execution_count": 5,
   "metadata": {},
   "outputs": [],
   "source": [
    "omega = np.array([\n",
    "    [1, 0, 0],\n",
    "    [0, 2, 0],\n",
    "    [0, 0, 1/4]\n",
    "])\n",
    "\n",
    "kappa = 0"
   ]
  },
  {
   "cell_type": "markdown",
   "metadata": {},
   "source": [
    "We then formulate this in Python as follows."
   ]
  },
  {
   "cell_type": "code",
   "execution_count": 6,
   "metadata": {},
   "outputs": [
    {
     "name": "stdout",
     "output_type": "stream",
     "text": [
      "Gurobi Optimizer version 11.0.0 build v11.0.0rc2 (linux64 - \"Ubuntu 22.04.4 LTS\")\n",
      "\n",
      "CPU model: Intel(R) Core(TM) i5-8350U CPU @ 1.70GHz, instruction set [SSE2|AVX|AVX2]\n",
      "Thread count: 4 physical cores, 8 logical processors, using up to 8 threads\n",
      "\n",
      "Optimize a model with 22 rows, 4 columns and 24 nonzeros\n",
      "Model fingerprint: 0x52c6cd50\n",
      "Model has 3 quadratic objective terms\n",
      "Model has 3 quadratic constraints\n",
      "Coefficient statistics:\n",
      "  Matrix range     [1e+00, 1e+00]\n",
      "  QMatrix range    [2e-01, 2e+00]\n",
      "  Objective range  [5e-01, 2e+00]\n",
      "  QObjective range [1e+00, 5e+00]\n",
      "  Bounds range     [0e+00, 0e+00]\n",
      "  RHS range        [5e-01, 1e+00]\n",
      "Presolve removed 21 rows and 1 columns\n",
      "Presolve time: 0.01s\n",
      "Presolved: 9 rows, 8 columns, 14 nonzeros\n",
      "Presolved model has 3 second-order cone constraints\n",
      "Ordering time: 0.00s\n",
      "\n",
      "Barrier statistics:\n",
      " AA' NZ     : 2.200e+01\n",
      " Factor NZ  : 4.500e+01\n",
      " Factor Ops : 2.850e+02 (less than 1 second per iteration)\n",
      " Threads    : 1\n",
      "\n",
      "                  Objective                Residual\n",
      "Iter       Primal          Dual         Primal    Dual     Compl     Time\n",
      "   0  -8.34016393e-01 -8.34016393e-01  1.49e+00 7.65e-01  6.80e-01     0s\n",
      "   1  -8.81356016e-01 -1.53869535e+00  1.03e-01 8.42e-07  8.51e-02     0s\n",
      "   2  -7.92785539e-01 -9.08144188e-01  1.13e-07 1.93e-08  9.61e-03     0s\n",
      "   3  -8.01210943e-01 -8.25717438e-01  2.11e-13 2.12e-14  2.04e-03     0s\n",
      "   4  -8.12263522e-01 -8.12579837e-01  1.20e-14 2.22e-16  2.64e-05     0s\n",
      "   5  -8.12499544e-01 -8.12500834e-01  8.52e-13 3.00e-15  1.07e-07     0s\n",
      "\n",
      "Barrier solved model in 5 iterations and 0.03 seconds (0.00 work units)\n",
      "Optimal objective -8.12499544e-01\n",
      "\n",
      "Standard: w = [0.50000 0.37500 0.12500],\n",
      "Robust:   w = [0.50000 0.37480 0.12520],\n",
      "          z = 0.051720387476679064.\n"
     ]
    }
   ],
   "source": [
    "# create a new model for robust genetic selection\n",
    "model = gp.Model(\"robustGS\")\n",
    "\n",
    "# define variables of interest as a continuous\n",
    "w = model.addMVar(shape=problem_size, lb=0.0, vtype=GRB.CONTINUOUS, name=\"w\")\n",
    "z = model.addVar(lb=0.0, name=\"z\")\n",
    "\n",
    "# setup the robust objective function\n",
    "model.setObjective(\n",
    "    0.5*w@(relationship_matrix@w) - lam*w.transpose()@expected_breeding_values - lam*kappa*z,\n",
    "GRB.MINIMIZE)\n",
    "\n",
    "# add quadratic uncertainty constraint\n",
    "model.addConstr(z**2 <= np.inner(w, omega@w), name=\"uncertainty\")\n",
    "# add sub-to-half constraints\n",
    "model.addConstr(M @ w == m, name=\"sum-to-half\")\n",
    "# add weight-bound constraints~\n",
    "model.addConstr(w >= lower_bound, name=\"lower-bound\")\n",
    "model.addConstr(w <= upper_bound, name=\"upper-bound\")\n",
    "\n",
    "# solve the problem with Gurobi\n",
    "model.optimize()\n",
    "print(f\"Standard: w = {std_w},\\nRobust:   w = {w.X},\\n          z = {z.X}.\")"
   ]
  },
  {
   "cell_type": "markdown",
   "metadata": {},
   "source": [
    "Note that even though $\\kappa = 0$, we have $z\\neq0$. This suggests that a small amount of numerical error has been introduced as a result of asking Gurobi to optimize $z$ as well as $w$. "
   ]
  }
 ],
 "metadata": {
  "kernelspec": {
   "display_name": "Python 3",
   "language": "python",
   "name": "python3"
  },
  "language_info": {
   "codemirror_mode": {
    "name": "ipython",
    "version": 3
   },
   "file_extension": ".py",
   "mimetype": "text/x-python",
   "name": "python",
   "nbconvert_exporter": "python",
   "pygments_lexer": "ipython3",
   "version": "3.10.12"
  }
 },
 "nbformat": 4,
 "nbformat_minor": 2
}
